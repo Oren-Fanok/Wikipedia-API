{
 "cells": [
  {
   "cell_type": "markdown",
   "metadata": {},
   "source": [
    "## Wikipedia Names by Year\n",
    "\n",
    "See the README for the full description. In this assignment we'll pull all the names for people born in the 150 years ending in 2015. "
   ]
  },
  {
   "cell_type": "markdown",
   "metadata": {},
   "source": [
    "# Connection to Wikipedia API"
   ]
  },
  {
   "cell_type": "code",
   "execution_count": 1,
   "metadata": {},
   "outputs": [],
   "source": [
    "# Some code to get you started\n",
    "import requests\n",
    "from collections import Counter\n",
    "import datetime\n",
    "\n",
    "wikipedia_api_url = \"https://en.wikipedia.org/w/api.php\"\n",
    "\n",
    "req = {'action':'query',\n",
    "          'format':'json',\n",
    "          'list':'categorymembers',\n",
    "          'cmlimit':500}"
   ]
  },
  {
   "cell_type": "code",
   "execution_count": null,
   "metadata": {},
   "outputs": [],
   "source": [
    "year=1865\n",
    "YEARS = list(range(year, year + 151, 1))\n",
    "\n",
    "for year in YEARS:\n",
    "    people[year] = list()\n",
    "    req['cmtitle'] = (f'Category:{year}_births')\n",
    "    print(req)\n"
   ]
  },
  {
   "cell_type": "markdown",
   "metadata": {},
   "source": [
    "# Final Build"
   ]
  },
  {
   "cell_type": "code",
   "execution_count": null,
   "metadata": {},
   "outputs": [],
   "source": [
    "#Final Code Section\n",
    "\n",
    "\n",
    "last_continue = {}\n",
    "pages = 0\n",
    "people = dict()\n",
    "year_list= []\n",
    "#Here let's get our requests for each year pulled.\n",
    "\n",
    "year=1865\n",
    "YEARS = list(range(year, year + 151, 1))\n",
    "\n",
    "\n",
    "for year in YEARS:\n",
    "    people[year] = list()\n",
    "    req['cmtitle'] = (f'Category:{year}_births')\n",
    "    #print(req)\n",
    "    last_continue = {}\n",
    "    iteration = 1\n",
    "\n",
    "    while True:\n",
    "\n",
    "        req.update(last_continue)\n",
    "\n",
    "        result= requests.get(wikipedia_api_url,params=req)\n",
    "\n",
    "        pages +=1\n",
    "        print(\"We pulled {} pages\".format(pages))\n",
    "\n",
    "        #grab the names we need for our dict\n",
    "        for item in result.json()['query']['categorymembers']:\n",
    "            people[year].append(item['title'])\n",
    "\n",
    "        print(f\"for {year} we have {len(people[year])} items\")    \n",
    "            \n",
    "        iteration +=1\n",
    "\n",
    "        if 'continue' not in result.json() :\n",
    "            break\n",
    "        else:\n",
    "            last_continue = result.json()['continue']\n",
    "\n",
    "        if iteration > 300:\n",
    "            break\n",
    "\n",
    "    year_list.extend([year]*len(people[year]))\n",
    "    if 'cmcontinue'in req:\n",
    "        del req['cmcontinue']\n",
    "    if 'continue' in req:\n",
    "        del req['continue']"
   ]
  },
  {
   "cell_type": "code",
   "execution_count": null,
   "metadata": {},
   "outputs": [],
   "source": [
    "result.json()"
   ]
  },
  {
   "cell_type": "code",
   "execution_count": 1,
   "metadata": {
    "scrolled": true
   },
   "outputs": [],
   "source": [
    "#req"
   ]
  },
  {
   "cell_type": "markdown",
   "metadata": {},
   "source": [
    "# Writing out Results"
   ]
  },
  {
   "cell_type": "code",
   "execution_count": 6,
   "metadata": {},
   "outputs": [],
   "source": [
    "with open(\"wikipedia_birth_year.txt\", \"w\", encoding=\"UTF-8\") as outfile:\n",
    "    outfile.write(\"birth_year\\tname\\toccupation\\n\")\n",
    "    for year in people:\n",
    "        for name in people[year]:\n",
    "            outfile.write(f\"{year}\\t{name}\\n\")"
   ]
  },
  {
   "cell_type": "code",
   "execution_count": 2,
   "metadata": {},
   "outputs": [],
   "source": [
    "#people[1866][:1]"
   ]
  },
  {
   "cell_type": "code",
   "execution_count": 3,
   "metadata": {},
   "outputs": [],
   "source": [
    "#from collections import Counter\n",
    "#Counter(year_list).most_common(3)"
   ]
  },
  {
   "cell_type": "code",
   "execution_count": null,
   "metadata": {},
   "outputs": [],
   "source": [
    "#now let's bring in pretty print for the json objects our request returns\n",
    "from pprint import pprint\n",
    "\n",
    "#and let's print out our json files\n",
    "\n",
    "pprint(result.json())\n"
   ]
  }
 ],
 "metadata": {
  "kernelspec": {
   "display_name": "Python 3 (ipykernel)",
   "language": "python",
   "name": "python3"
  },
  "language_info": {
   "codemirror_mode": {
    "name": "ipython",
    "version": 3
   },
   "file_extension": ".py",
   "mimetype": "text/x-python",
   "name": "python",
   "nbconvert_exporter": "python",
   "pygments_lexer": "ipython3",
   "version": "3.9.13"
  }
 },
 "nbformat": 4,
 "nbformat_minor": 2
}
